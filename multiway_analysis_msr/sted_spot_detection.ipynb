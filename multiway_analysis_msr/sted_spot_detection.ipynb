{
 "cells": [
  {
   "cell_type": "code",
   "execution_count": null,
   "id": "faf03d7e",
   "metadata": {},
   "outputs": [],
   "source": [
    "import papermill as pm\n",
    "import pandas as pd\n",
    "import numpy as np\n",
    "from multiprocessing import Pool\n",
    "import concurrent.futures\n",
    "import queue\n",
    "import os\n",
    "from pathlib import Path\n",
    "from datetime import datetime"
   ]
  },
  {
   "cell_type": "code",
   "execution_count": null,
   "id": "3be0dc87",
   "metadata": {},
   "outputs": [],
   "source": [
    "def run_notebook(parameters,notebook_to_run,parameters_common={}):\n",
    "    \n",
    "    # change to directory where the notebook is (resolve relative imports)\n",
    "    os.chdir(Path(notebook_to_run).absolute().parent)\n",
    "    \n",
    "    # run notebook\n",
    "    for parameters_spec in parameters_list:\n",
    "        parameters = {**parameters_common, **parameters_spec}\n",
    "\n",
    "        pm.execute_notebook(\n",
    "            notebook_to_run,\n",
    "            '/dev/null',\n",
    "            parameters=parameters)"
   ]
  },
  {
   "cell_type": "markdown",
   "id": "9e85b4c7",
   "metadata": {},
   "source": [
    "# 0) Create projections\n",
    "**In:** folder with 2-channel `.msr` images\n",
    "\n",
    "**Out:** folder `projections` with maximum inensity projections `.png` images"
   ]
  },
  {
   "cell_type": "code",
   "execution_count": null,
   "id": "2a1cffa5",
   "metadata": {},
   "outputs": [],
   "source": [
    "parameters_list = [\n",
    "    {\"in_path\": \"/home/stumberger/ep2024/sted_spot_detection/example/\"}\n",
    "]\n",
    "\n",
    "notebook_to_run = \"/home/stumberger/ep2024/subscripts/msr_make_projections_2_color.ipynb\"\n",
    "\n",
    "run_notebook(parameters_list,notebook_to_run)"
   ]
  },
  {
   "cell_type": "markdown",
   "id": "6f99ba48",
   "metadata": {},
   "source": [
    "# 1) Split channels and resave `msr` as `tif`\n",
    "**In:** folder containing folder `raw` with `.msr` images\n",
    "\n",
    "**Out:** folder `tif` with `.tif` images split by channel"
   ]
  },
  {
   "cell_type": "code",
   "execution_count": null,
   "id": "bb034710",
   "metadata": {},
   "outputs": [],
   "source": [
    "parameters_list = [\n",
    "    {\"in_path\": \"/home/stumberger/ep2024/sted_spot_detection/example/\"}\n",
    "]\n",
    "\n",
    "notebook_to_run = \"/home/stumberger/image-analyis-recipes/resave/resave_msr_as_tiff.ipynb\"\n",
    "\n",
    "run_notebook(parameters_list,notebook_to_run)"
   ]
  },
  {
   "cell_type": "markdown",
   "id": "291e2f07",
   "metadata": {},
   "source": [
    "# 2) Spot detection\n",
    "**In:** \n",
    "- `tif_subfolder` containing single channel `tif` images\n",
    "- `out_subfolder` containing spot detection settings file `chX.txt` generated via RS-FISH Fiji plugin for each channel specified in `channels`\n",
    "- `acquisition_info.json` file with the sample metadata which you wish to be added to your spots\n",
    "\n",
    "**Out:**\n",
    "- folder containing a `csv` file for each provioded `tif`\n",
    "- `merge.csv` file combining spots and their metadata from all images in the batch\n",
    "- vis folder with detection visualization for all `tif`s as `png` (good for checking detection results)"
   ]
  },
  {
   "cell_type": "code",
   "execution_count": null,
   "id": "317c9be7",
   "metadata": {},
   "outputs": [],
   "source": [
    "parameters_list = [\n",
    "   {\"in_path\": \"/home/stumberger/ep2024/sted_spot_detection/example/\"}\n",
    "]\n",
    "\n",
    "parameters_common = {\"channels\": [0,1],\n",
    "                     \"tif_subfolder\": \"tif\",\n",
    "                    \"out_subfolder\": \"detections\"}\n",
    "\n",
    "notebook_to_run = \"/home/stumberger/ep2024/subscripts/RS-FISH_spot_detection.ipynb\"\n",
    "\n",
    "run_notebook(parameters_list,notebook_to_run,parameters_common)"
   ]
  },
  {
   "cell_type": "markdown",
   "id": "aa775783-26b0-4e34-a2de-88353fcb1435",
   "metadata": {},
   "source": [
    "# 3) Get spot pairs and distance distributions\n",
    "**In:** `.csv` file with spots in 2 channels\n",
    "\n",
    "**Out:** \n",
    "- `merge_distances.csv` file in `detections` folder, containing spot pairs between 2 channels and distances between each pair\n",
    "- folder `detections_good` with max intensity projections and detections of images with `n_enh` in second channel"
   ]
  },
  {
   "cell_type": "code",
   "execution_count": null,
   "id": "58000b04-dd2a-444a-a9ac-1bf3309c6121",
   "metadata": {},
   "outputs": [],
   "source": [
    "parameters_list = [\n",
    "    {\"in_path\": \"/home/stumberger/ep2024/sted_spot_detection/example/\"}\n",
    "]\n",
    "\n",
    "parameters_common = {\"pixel_size\": [0.045, 0.045, 0.06],\n",
    "                     \"limit\": 1.5, #max P-E distance to look at [um]\n",
    "                     \"n_enh\": 3, \n",
    "                     \"channels\": [0,1],\n",
    "                     \"spot_subfolder\": \"detections/merge.csv\",\n",
    "                     \"projections_subfolder\": \"detections_good\"}\n",
    "\n",
    "notebook_to_run = \"/home/stumberger/ep2024/subscripts/paired_spot_distances_2_channels_sted.ipynb\"\n",
    "\n",
    "run_notebook(parameters_list,notebook_to_run,parameters_common)"
   ]
  },
  {
   "cell_type": "markdown",
   "id": "e34641d7",
   "metadata": {},
   "source": [
    "# 4) Join csvs (optional)\n",
    "**In:** Paths to multiples folders containing the `merge_distances.csv` files you want to join\n",
    "\n",
    "**Out:** `multi_sted_distances_{time}.csv` file with all `.csv`s joined"
   ]
  },
  {
   "cell_type": "code",
   "execution_count": 6,
   "id": "80504b27",
   "metadata": {},
   "outputs": [],
   "source": [
    "wd = \"/home/stumberger/ep2024/sted_spot_detection/example/\"\n",
    "\n",
    "# directory where csv files you want to merge are located\n",
    "csv_files = [\n",
    "    \"/home/stumberger/ep2024/sted_spot_detection/example/detections/\"\n",
    "]\n",
    "\n",
    "# Initialize an empty list to store DataFrames\n",
    "dataframes = []\n",
    "\n",
    "# Read and store each CSV file as a DataFrame\n",
    "for file in csv_files:\n",
    "    df = pd.read_csv(f\"{file}/merge_distances.csv\")\n",
    "    dataframes.append(df)\n",
    "\n",
    "# Join the DataFrames using Pandas (e.g., concatenate them vertically)\n",
    "joined_dataframe = pd.concat(dataframes, ignore_index=True)\n",
    "# Save the joined DataFrame to a new CSV file\n",
    "time =  datetime.now().strftime(\"%Y-%m-%d-%H-%M\")\n",
    "joined_dataframe.to_csv(f'{wd}/multi_sted_distances_{time}.csv', index=False)"
   ]
  }
 ],
 "metadata": {
  "kernelspec": {
   "display_name": "Python 3 (ipykernel)",
   "language": "python",
   "name": "python3"
  },
  "language_info": {
   "codemirror_mode": {
    "name": "ipython",
    "version": 3
   },
   "file_extension": ".py",
   "mimetype": "text/x-python",
   "name": "python",
   "nbconvert_exporter": "python",
   "pygments_lexer": "ipython3",
   "version": "3.9.19"
  }
 },
 "nbformat": 4,
 "nbformat_minor": 5
}
