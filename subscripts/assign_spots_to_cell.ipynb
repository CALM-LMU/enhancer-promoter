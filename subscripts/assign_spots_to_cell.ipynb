{
 "cells": [
  {
   "cell_type": "markdown",
   "id": "26960870",
   "metadata": {},
   "source": [
    "This script takes a segmentation and a table of spots, and adds the information about which cell the spot is in to the spot table. You can optionally remove spots outside of cells / nuclei.\n",
    "\n",
    "## Input\n",
    "- segmentation masks in either `npy` or `png` format (name should correspond to the name of the image in the spot file)\n",
    "- `.csv` file of spots in each of the 2 channels, containg following columns:\n",
    "    - *img* - image name\n",
    "    - *channel* channel number the spot belongs to  \n",
    "    - *x, y* and *z* coordiantes\n",
    "\n",
    "## Output\n",
    "- `.csv` file of spots with addtional columns:\n",
    "    - *cell* - cell number in that particular image (0 means outside of cell)\n",
    "    - *whole_cell* - marks `False` for all cells touching the image border\n",
    "- optionally removes spots outside of cells"
   ]
  },
  {
   "cell_type": "markdown",
   "id": "13b7cd95",
   "metadata": {},
   "source": [
    "# Functions and imports"
   ]
  },
  {
   "cell_type": "code",
   "execution_count": 4,
   "id": "d83ad616",
   "metadata": {},
   "outputs": [],
   "source": [
    "import os\n",
    "from glob import glob\n",
    "import pandas as pd\n",
    "import numpy as np\n",
    "import re\n",
    "from skimage.morphology import label\n",
    "from skimage.segmentation import clear_border\n",
    "from skimage.io import imread\n",
    "\n",
    "from utils.spot_analysis import add_cell_info"
   ]
  },
  {
   "cell_type": "code",
   "execution_count": 5,
   "id": "52d2bb78",
   "metadata": {},
   "outputs": [],
   "source": [
    "# assigns each spot to a cell and filters spots.csv for spots in cells\n",
    "def add_cell_info(masks,path_spots,out,filter=True,mask_ending=\"_cp_masks\"):\n",
    "    \n",
    "    df = pd.read_csv(path_spots)\n",
    "        \n",
    "    df_list = []\n",
    "    \n",
    "    for file in masks:\n",
    "        # subset spots for spots in current image\n",
    "        name = file.split(\"/\")[-1].split(\".\")[0]\n",
    "        name = name.replace(mask_ending, \"\")\n",
    "        name = re.sub(r'_ch\\d+', '', name)\n",
    "        subset_df = df[df['img'].str.contains(name)]\n",
    "        \n",
    "        # load mask\n",
    "        file_type = os.path.splitext(file)[1]\n",
    "        \n",
    "        if file_type == \".npy\":\n",
    "            mask = np.load(file,allow_pickle=True).item()['masks']\n",
    "        elif file_type == \".png\":\n",
    "            mask = imread(file)\n",
    "        else:\n",
    "            print(\"Please input valid segmentation masks (.npy and .png supported).\")\n",
    "        \n",
    "        # label all cells and remove cells on edges\n",
    "        labelled_mask = label(mask)\n",
    "        cleared_mask = clear_border(labelled_mask)\n",
    "\n",
    "        \n",
    "    # add cell info to spots\n",
    "        # for 2d masks\n",
    "        if len(cleared_mask.shape) == 2:            \n",
    "            cell = labelled_mask[subset_df['y'].astype(int), subset_df['x'].astype(int)]\n",
    "            subset_df.insert(1, 'cell', cell)\n",
    "\n",
    "            # info about whether spot is in cell on border\n",
    "            spot_in_cleared_mask = cleared_mask[subset_df['y'].astype(int), subset_df['x'].astype(int)] != 0\n",
    "            subset_df.insert(2, 'whole_cell', spot_in_cleared_mask)\n",
    "\n",
    "            df_list.append(subset_df)\n",
    "            \n",
    "        # for 3d masks\n",
    "        elif len(cleared_mask.shape) == 3:\n",
    "            cell = labelled_mask[subset_df['z'].astype(int), subset_df['y'].astype(int), subset_df['x'].astype(int)]\n",
    "            subset_df.insert(1, 'cell', cell)\n",
    "\n",
    "            # info about whether spot is in cell touching border\n",
    "            spot_in_cleared_mask = cleared_mask[subset_df['z'].astype(int), subset_df['y'].astype(int), subset_df['x'].astype(int)] != 0\n",
    "            subset_df.insert(2, 'whole_cell', spot_in_cleared_mask)\n",
    "\n",
    "            df_list.append(subset_df)\n",
    "            \n",
    "    spots = pd.concat(df_list, ignore_index=True)\n",
    "    \n",
    "    # remove all spots without a cell (0)\n",
    "    if filter == True:\n",
    "        spots.drop(spots[spots['cell'] == 0].index, inplace=True)\n",
    "    \n",
    "    spots.to_csv(out, index=False)"
   ]
  },
  {
   "cell_type": "markdown",
   "id": "6623ab83",
   "metadata": {},
   "source": [
    "# Add cell info to spots\n",
    "Optionally set `filter = True` to remove spots outside of cells. \n",
    "\n",
    "*NOTE:* The segmentation mask name should correspond to the name of the image in the spot file + a suffix / prefix. You have to specify the correct suffix / prefix in the function call, so that the masks can be matched to the images."
   ]
  },
  {
   "cell_type": "code",
   "execution_count": 6,
   "id": "e566cd20",
   "metadata": {
    "tags": [
     "parameters"
    ]
   },
   "outputs": [],
   "source": [
    "in_path = \"/home/stumberger/ep2024/example/\" # upper level experiment folder\n",
    "filter = True # whether to filter out spots outside of cells\n",
    "mask_ending = \"_seg\"\n",
    "spot_file= \"merge_shift-corrected.csv\""
   ]
  },
  {
   "cell_type": "code",
   "execution_count": 7,
   "id": "277ae968",
   "metadata": {},
   "outputs": [],
   "source": [
    "path_spots = f\"{in_path}/detections/{spot_file}\" #spots file\n",
    "masks = glob(f\"{in_path}/segmentation/*.npy\") #all segmentation masks (.npy and .png supported)\n",
    "out = f\"{in_path}/detections/merge_filtered.csv\" # where to save new file\n",
    "\n",
    "#filter=True - exclude spots outside of nuclei\n",
    "add_cell_info(masks,path_spots,out,filter=filter,mask_ending=mask_ending)"
   ]
  }
 ],
 "metadata": {
  "kernelspec": {
   "display_name": "Python 3 (ipykernel)",
   "language": "python",
   "name": "python3"
  },
  "language_info": {
   "codemirror_mode": {
    "name": "ipython",
    "version": 3
   },
   "file_extension": ".py",
   "mimetype": "text/x-python",
   "name": "python",
   "nbconvert_exporter": "python",
   "pygments_lexer": "ipython3",
   "version": "3.9.19"
  }
 },
 "nbformat": 4,
 "nbformat_minor": 5
}
