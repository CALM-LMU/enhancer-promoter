{
 "cells": [
  {
   "cell_type": "markdown",
   "id": "3c7362f6",
   "metadata": {},
   "source": [
    "This script matches spots from 2 different channels to their nearest neighbour. 1 spot is assigned only to 1 pair!\n",
    "\n",
    "## Input:\n",
    "`.csv` file of spots in each of the 2 channels, containg following columns:\n",
    "- *img* - image name\n",
    "- *channel* - channel number the spot belongs to  \n",
    "- *x, y* and *z* coordiantes\n",
    "\n",
    "## Output\n",
    "- `distances.csv` with information on the image name, x,y,z positions of matched spots and the distances between them \\[nm\\]."
   ]
  },
  {
   "cell_type": "markdown",
   "id": "c4dcd7f1",
   "metadata": {},
   "source": [
    "# Functions and imports\n",
    "*also part of `pipelines/fish_utils`*"
   ]
  },
  {
   "cell_type": "code",
   "execution_count": 1,
   "id": "76f18365",
   "metadata": {},
   "outputs": [],
   "source": [
    "import pandas as pd\n",
    "import numpy as np\n",
    "from collections import defaultdict\n",
    "from itertools import product\n",
    "from scipy.optimize import linear_sum_assignment"
   ]
  },
  {
   "cell_type": "code",
   "execution_count": 2,
   "id": "898dbba5",
   "metadata": {},
   "outputs": [],
   "source": [
    "def detect_spot_pairs(path, out, ch, voxel_size=(300, 130, 130)):\n",
    "    df = pd.read_csv(path)\n",
    "    df['img'] = df['img'].apply(lambda x: x.rsplit('_', 1)[0])\n",
    "    \n",
    "    result = defaultdict(list)\n",
    "    voxel_size = np.array(voxel_size)\n",
    "\n",
    "    # group the DataFrame by 'img' \n",
    "    grouped = df.groupby(['img'])\n",
    "    \n",
    "    for img, group_df in grouped:\n",
    "        spot_coords_ch1 = group_df.loc[group_df['channel'] == ch[0], ['z', 'y', 'x']].values\n",
    "        spot_coords_ch2 = group_df.loc[group_df['channel'] == ch[1], ['z', 'y', 'x']].values\n",
    "\n",
    "        distances = np.zeros((len(spot_coords_ch1), len(spot_coords_ch2)))\n",
    "\n",
    "        for (i1,c1), (i2, c2) in product(enumerate(spot_coords_ch1), enumerate(spot_coords_ch2)):\n",
    "            distances[i1, i2] = np.linalg.norm((c1 - c2)*voxel_size) # np.sqrt(np.sum((c1 - c2)**2))\n",
    "\n",
    "        row_ind, col_ind = linear_sum_assignment(distances)\n",
    "        \n",
    "        for ri, ci in zip(row_ind, col_ind):\n",
    "            result['img'].append(img[0])\n",
    "            result['distance_um'].append(distances[ri,ci]/1000)\n",
    "\n",
    "            \n",
    "            for dim_i, dim in enumerate('zyx'):\n",
    "                result[f'{dim}_1'].append(spot_coords_ch1[ri][dim_i])\n",
    "                result[f'{dim}_2'].append(spot_coords_ch2[ci][dim_i])\n",
    "\n",
    "    result_df = pd.DataFrame(result)\n",
    "    \n",
    "    # add acquisition info and reshape\n",
    "    df = df.drop(columns=['c','t'])\n",
    "    right = [\"img\",\"x\",\"y\",\"z\"] \n",
    "    left1 =  [\"img\",\"x_1\",\"y_1\",\"z_1\"] \n",
    "    left2 = [\"img\",\"x_2\",\"y_2\",\"z_2\"] \n",
    "    \n",
    "    result_df = result_df.merge(df, left_on=left1, right_on=right ,how='left')\n",
    "    result_df = result_df.merge(df, left_on=left2, right_on=right ,how='left',suffixes=('.1', '.2'))\n",
    "    \n",
    "    result_df = result_df.T.drop_duplicates().T\n",
    "    \n",
    "    # save to csv\n",
    "    result_df.to_csv(out, index=False)"
   ]
  },
  {
   "cell_type": "markdown",
   "id": "6f9b325a",
   "metadata": {},
   "source": [
    "# Match spots and calculate distances"
   ]
  },
  {
   "cell_type": "code",
   "execution_count": 3,
   "id": "c85baa0b",
   "metadata": {
    "tags": [
     "parameters"
    ]
   },
   "outputs": [],
   "source": [
    "in_path = \"/home/stumberger/ep2024/example/\" #upper level experiment folder\n",
    "channels = [1,2] # which channels to match\n",
    "voxel_size=(300, 130, 130) #sizes of zyx [nm]\n",
    "rel_spot_path = \"/detections/merge_shift-corrected.csv\" #spot file path relative to in_path"
   ]
  },
  {
   "cell_type": "code",
   "execution_count": 4,
   "id": "4f4927b6",
   "metadata": {},
   "outputs": [],
   "source": [
    "path_spots = f\"{in_path}/{rel_spot_path}\"\n",
    "out_distances = f\"{in_path}/distances.csv\"\n",
    "\n",
    "data = detect_spot_pairs(path_spots,out_distances,channels,voxel_size)"
   ]
  }
 ],
 "metadata": {
  "kernelspec": {
   "display_name": "Python 3 (ipykernel)",
   "language": "python",
   "name": "python3"
  },
  "language_info": {
   "codemirror_mode": {
    "name": "ipython",
    "version": 3
   },
   "file_extension": ".py",
   "mimetype": "text/x-python",
   "name": "python",
   "nbconvert_exporter": "python",
   "pygments_lexer": "ipython3",
   "version": "3.9.19"
  }
 },
 "nbformat": 4,
 "nbformat_minor": 5
}
