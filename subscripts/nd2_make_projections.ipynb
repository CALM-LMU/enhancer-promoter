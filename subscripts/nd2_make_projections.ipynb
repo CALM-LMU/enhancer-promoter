{
 "cells": [
  {
   "cell_type": "markdown",
   "metadata": {},
   "source": [
    "# Quick projections of multichannel 3D images (```.nd2``` Version) \n",
    "\n",
    "## Input\n",
    "\n",
    "This recipe expects an input folder containing 3D & multichannel ```.nd2``` files.\n",
    "\n",
    "**NOTE:** single channel images are untested at the moment.\n",
    "\n",
    "## Output\n",
    "\n",
    "For each channel of each ```.nd2``` image in the input folder, a ```.png``` image showning z-,y- and x-projections will be created in the output folder. The name of output files will be ```{input file name (without ending)}_{channel name}_projected.png```"
   ]
  },
  {
   "cell_type": "code",
   "execution_count": null,
   "metadata": {
    "tags": []
   },
   "outputs": [],
   "source": [
    "# imports / definitions\n",
    "import warnings\n",
    "from pathlib import Path\n",
    "from skimage.io import imsave\n",
    "from utils.projection import load_multichannel_nd2, get_orthogonal_projections_8bit"
   ]
  },
  {
   "cell_type": "code",
   "execution_count": null,
   "metadata": {
    "tags": [
     "parameters"
    ]
   },
   "outputs": [],
   "source": [
    "# path containing files to visualize\n",
    "in_path = '/home/stumberger/ep2024/example/raw/'\n",
    "\n",
    "# default: put results in subdirectory called 'projections'\n",
    "out_subdirectory = 'projections'\n",
    "\n",
    "# Intensity range for levelling\n",
    "# Default: 'auto' -> level based on quantiles \n",
    "intensity_range = 'auto'\n",
    "auto_range_quantiles = (0.02, 0.9995)\n",
    "\n",
    "# Alternatively, specify range directly\n",
    "# intensity_range = (500, 1500)\n",
    "\n",
    "# Type of projection, can be min/max/mean\n",
    "projection_type='max'"
   ]
  },
  {
   "cell_type": "code",
   "execution_count": null,
   "metadata": {},
   "outputs": [],
   "source": [
    "out_path = Path(in_path) / out_subdirectory\n",
    "\n",
    "# get all nd2 files in in_path\n",
    "in_files = sorted(list(Path(in_path).glob('*.nd2')))\n",
    "\n",
    "# show for verification\n",
    "in_files"
   ]
  },
  {
   "cell_type": "code",
   "execution_count": null,
   "metadata": {},
   "outputs": [],
   "source": [
    "# make folder for results if it does not exist\n",
    "if not out_path.exists():\n",
    "    out_path.mkdir(parents=True)\n",
    "\n",
    "for in_file in in_files:\n",
    "\n",
    "    # read images, channel names, pixel sizes\n",
    "    try:\n",
    "        imgs, channel_names, pixel_size = load_multichannel_nd2(in_file)\n",
    "    except:\n",
    "        print(f'error loading file {in_file}, skipping')\n",
    "        continue\n",
    "\n",
    "\n",
    "    # do projections and save\n",
    "    for img, channel_name in zip(imgs, channel_names):\n",
    "\n",
    "        projections_8bit = get_orthogonal_projections_8bit(img, pixel_size,\n",
    "                projection_type=projection_type, intensity_range=intensity_range, auto_range_quantiles=auto_range_quantiles)\n",
    "\n",
    "        # make filepath for output\n",
    "        outfile = out_path / (in_file.stem + f'_{channel_name}_projected.png')\n",
    "        \n",
    "        # catch low contrast warning\n",
    "        with warnings.catch_warnings():\n",
    "            warnings.simplefilter('ignore', UserWarning)\n",
    "            \n",
    "            imsave(str(outfile), projections_8bit)\n",
    "    \n",
    "    print(f'saved projections of {str(in_file)}.')"
   ]
  }
 ],
 "metadata": {
  "kernelspec": {
   "display_name": "Python 3 (ipykernel)",
   "language": "python",
   "name": "python3"
  },
  "language_info": {
   "codemirror_mode": {
    "name": "ipython",
    "version": 3
   },
   "file_extension": ".py",
   "mimetype": "text/x-python",
   "name": "python",
   "nbconvert_exporter": "python",
   "pygments_lexer": "ipython3",
   "version": "3.9.19"
  }
 },
 "nbformat": 4,
 "nbformat_minor": 4
}
