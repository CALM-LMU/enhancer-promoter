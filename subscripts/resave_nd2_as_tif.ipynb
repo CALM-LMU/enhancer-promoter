{
 "cells": [
  {
   "cell_type": "markdown",
   "id": "d27aa2dc",
   "metadata": {},
   "source": [
    "# Resave images as tiff (```.nd2``` Version) \n",
    "\n",
    "## Input\n",
    "\n",
    "This recipe expects an input folder containing a `raw` folder with 3D & multichannel ```.nd2``` files.\n",
    "\n",
    "**NOTE:** single channel images are untested at the moment.\n",
    "\n",
    "## Output\n",
    "\n",
    "For each channel of each ```.nd2``` image in the input folder, a ```.tif``` file will be created in a `tif` folder (which is placed in the input directory). The name of output files will be ```{input file name (without ending)}_ch{channel number}.tif```"
   ]
  },
  {
   "cell_type": "code",
   "execution_count": 2,
   "id": "c749588c",
   "metadata": {
    "papermill": {
     "duration": 0.841871,
     "end_time": "2023-10-19T09:19:25.738412",
     "exception": false,
     "start_time": "2023-10-19T09:19:24.896541",
     "status": "completed"
    },
    "tags": []
   },
   "outputs": [],
   "source": [
    "import os\n",
    "import sys\n",
    "import json\n",
    "from glob import glob\n",
    "import numpy as np\n",
    "from natsort import natsorted\n",
    "\n",
    "import tifffile\n",
    "from nd2reader import ND2Reader\n",
    "\n",
    "from utils.resave import remove_tifs, resave_nd2, resave_auto_nd2"
   ]
  },
  {
   "cell_type": "code",
   "execution_count": 3,
   "id": "cd76f778",
   "metadata": {
    "papermill": {
     "duration": 39.074486,
     "end_time": "2023-10-19T09:20:04.816753",
     "exception": true,
     "start_time": "2023-10-19T09:19:25.742267",
     "status": "failed"
    },
    "tags": [
     "parameters"
    ]
   },
   "outputs": [],
   "source": [
    "# specify the upper level folder, containing the \"raw\" folder with the images\n",
    "in_path = '/home/stumberger/ep2024/example/'"
   ]
  },
  {
   "cell_type": "code",
   "execution_count": 4,
   "id": "a7e37664",
   "metadata": {},
   "outputs": [],
   "source": [
    "# execute resave\n",
    "resave_nd2(in_path) # nd2 file is 1 stack"
   ]
  }
 ],
 "metadata": {
  "celltoolbar": "Tags",
  "kernelspec": {
   "display_name": "Python 3 (ipykernel)",
   "language": "python",
   "name": "python3"
  },
  "language_info": {
   "codemirror_mode": {
    "name": "ipython",
    "version": 3
   },
   "file_extension": ".py",
   "mimetype": "text/x-python",
   "name": "python",
   "nbconvert_exporter": "python",
   "pygments_lexer": "ipython3",
   "version": "3.9.19"
  },
  "papermill": {
   "default_parameters": {},
   "duration": 41.074594,
   "end_time": "2023-10-19T09:20:05.140579",
   "environment_variables": {},
   "exception": true,
   "input_path": "resave_nd2_as_tiff.ipynb",
   "output_path": "resave_nd2_as_tiff.ipynb",
   "parameters": {
    "path": "/data/agl_data/NanoFISH/Gabi/GS102_Dppa3_Dppa3-185/20231018_run0_sd/raw/"
   },
   "start_time": "2023-10-19T09:19:24.065985",
   "version": "2.4.0"
  }
 },
 "nbformat": 4,
 "nbformat_minor": 5
}
