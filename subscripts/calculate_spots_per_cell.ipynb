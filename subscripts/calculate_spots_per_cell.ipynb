{
 "cells": [
  {
   "cell_type": "markdown",
   "id": "31be7989",
   "metadata": {},
   "source": [
    "This script takes a segmentation and spots to calculate the number of spots / cell.\n",
    "\n",
    "## Input:\n",
    "- segmentation masks in either `npy` or `png` format (name should correspond to the name of the image in the spot file)\n",
    "- `.csv` file of spots containing:\n",
    "    - *img* - image name\n",
    "    - *channel* - channel number the spot belongs to  \n",
    "    - *x, y* and *z* coordiantes\n",
    "\n",
    "## Output\n",
    "- `spots_per_cell.csv` with information on how many spots each cell in an image and channel contains."
   ]
  },
  {
   "cell_type": "markdown",
   "id": "949ec37e",
   "metadata": {},
   "source": [
    "# Functions and imports\n",
    "*also part of `pipelines/fish_utils`*"
   ]
  },
  {
   "cell_type": "code",
   "execution_count": 1,
   "id": "1a50f03b",
   "metadata": {},
   "outputs": [],
   "source": [
    "import os\n",
    "from glob import glob\n",
    "import pandas as pd\n",
    "import numpy as np\n",
    "import re\n",
    "\n",
    "from skimage.morphology import label\n",
    "from skimage.segmentation import clear_border\n",
    "from skimage.measure import regionprops\n",
    "\n",
    "from utils.spot_analysis import get_sensitivity"
   ]
  },
  {
   "cell_type": "markdown",
   "id": "7b84545d",
   "metadata": {},
   "source": [
    "# Get number of spots per cell"
   ]
  },
  {
   "cell_type": "code",
   "execution_count": 2,
   "id": "76b2f7b6",
   "metadata": {
    "tags": [
     "parameters"
    ]
   },
   "outputs": [],
   "source": [
    "#upper level experiment folder\n",
    "in_path = \"/home/stumberger/ep2024/example/\"\n",
    "mask_ending = \"_seg\"\n",
    "rel_spot_path = \"/detections/merge_filtered.csv\""
   ]
  },
  {
   "cell_type": "code",
   "execution_count": 3,
   "id": "987ff714",
   "metadata": {},
   "outputs": [],
   "source": [
    "path_spots = f\"{in_path}/{rel_spot_path}\" #spots file\n",
    "masks = glob(f\"{in_path}/segmentation/*.npy\") #all segmentation masks (.npy supported)\n",
    "tifs = glob(f\"{in_path}tif/*.tif\") #original tif images\n",
    "out = f\"{in_path}/detections/spots_per_cell.csv\" # where to save new file\n",
    "\n",
    "get_sensitivity(masks,path_spots,out,tifs,mask_ending=mask_ending)"
   ]
  }
 ],
 "metadata": {
  "kernelspec": {
   "display_name": "Python 3 (ipykernel)",
   "language": "python",
   "name": "python3"
  },
  "language_info": {
   "codemirror_mode": {
    "name": "ipython",
    "version": 3
   },
   "file_extension": ".py",
   "mimetype": "text/x-python",
   "name": "python",
   "nbconvert_exporter": "python",
   "pygments_lexer": "ipython3",
   "version": "3.9.19"
  }
 },
 "nbformat": 4,
 "nbformat_minor": 5
}
