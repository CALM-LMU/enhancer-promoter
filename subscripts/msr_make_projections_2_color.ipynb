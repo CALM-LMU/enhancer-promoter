{
 "cells": [
  {
   "cell_type": "markdown",
   "metadata": {},
   "source": [
    "# Quick projections of 2-channel 3D images (```.msr``` Version) \n",
    "\n",
    "## Input\n",
    "\n",
    "This recipe expects an input folder containing 3D & 2 channel ```.msr``` files.\n",
    "\n",
    "\n",
    "## Output\n",
    "\n",
    "For each ```.msr``` image in the input folder, a ```.png``` image showning z-,y- and x-projections, with the color channels merged will be created in the output folder. The name of output files will be ```{input file name (without ending)}_projected.png```"
   ]
  },
  {
   "cell_type": "code",
   "execution_count": null,
   "metadata": {},
   "outputs": [],
   "source": [
    "import numpy as np\n",
    "import warnings\n",
    "from pathlib import Path\n",
    "from skimage.io import imsave\n",
    "from utils.projection import get_orthogonal_projections_8bit\n",
    "from msr_reader import OBFFile\n",
    "import matplotlib.pyplot as plt\n",
    "from xml.etree import ElementTree\n",
    "\n",
    "def load_msr(file):\n",
    "    with OBFFile(file) as f:\n",
    "            \n",
    "        imgs = []\n",
    "        channel_names = []\n",
    "\n",
    "        for idx in range(0,len(f.shapes)):\n",
    "\n",
    "            # reading image data\n",
    "            img = f.read_stack(idx) # read stack with index idx into numpy array\n",
    "            imgs.append(img)\n",
    "\n",
    "            # metadata\n",
    "            stack_sizes = f.shapes # list of stack sizes/shapes, including stack and dimension names\n",
    "            pixel_sizes = f.pixel_sizes # like sizes, but with pixel sizes (unit: meters)\n",
    "            channel_names.append(pixel_sizes[idx].name)\n",
    "            # pixel_sizes = [pixel_sizes[idx].sizes['ExpControl Z'],\n",
    "            #                pixel_sizes[idx].sizes['ExpControl Y'],\n",
    "            #                pixel_sizes[idx].sizes['ExpControl X']]\n",
    "            pixel_sizes = [pixel_sizes[idx].sizes[0],\n",
    "                   pixel_sizes[idx].sizes[1],\n",
    "                   pixel_sizes[idx].sizes[2]]\n",
    "\n",
    "        imgs = np.asarray(imgs)\n",
    "\n",
    "        return(imgs, channel_names, pixel_sizes)"
   ]
  },
  {
   "cell_type": "code",
   "execution_count": null,
   "metadata": {
    "tags": [
     "parameters"
    ]
   },
   "outputs": [],
   "source": [
    "# path containing files to visualize (upper level directory containing \"raw\" directory)\n",
    "in_path = \"/home/stumberger/ep2024/example2/\"\n",
    "\n",
    "# default: put results in subdirectory called 'projections'\n",
    "out_subdirectory = 'projections'\n",
    "\n",
    "# Intensity range for levelling\n",
    "# Default: auto -> level based on quantiles \n",
    "intensity_range = 'auto'\n",
    "auto_range_quantiles = (0.02, 0.9995)\n",
    "\n",
    "# Alternatively, specify range directly\n",
    "# intensity_range = (500, 1500)\n",
    "\n",
    "# Type of projection, can be min/max/mean\n",
    "projection_type='max'"
   ]
  },
  {
   "cell_type": "code",
   "execution_count": null,
   "metadata": {},
   "outputs": [],
   "source": [
    "# complete in and out paths\n",
    "path = Path(in_path) / 'raw'\n",
    "out_path = Path(in_path) / out_subdirectory\n",
    "\n",
    "# get all msr files in in_path\n",
    "in_files = sorted(list(Path(path).glob('*.msr')))\n",
    "\n",
    "# show for verification\n",
    "in_files"
   ]
  },
  {
   "cell_type": "code",
   "execution_count": null,
   "metadata": {},
   "outputs": [],
   "source": [
    "# make folder for results if it does not exist\n",
    "if not out_path.exists():\n",
    "    out_path.mkdir(parents=True)\n",
    "\n",
    "for in_file in in_files:\n",
    "\n",
    "    # read images, channel names, pixel sizes\n",
    "    try:\n",
    "        imgs, channel_names, pixel_size = load_msr(in_file)\n",
    "    except:\n",
    "        print(f'error loading file {in_file}, skipping')\n",
    "        continue\n",
    "\n",
    "    projs = []\n",
    "    # do projections and save\n",
    "    for img, channel_name in zip(imgs, channel_names):\n",
    "\n",
    "        projections_8bit = get_orthogonal_projections_8bit(img, pixel_size,\n",
    "                projection_type=projection_type, intensity_range=intensity_range, auto_range_quantiles=auto_range_quantiles)\n",
    "\n",
    "        projs.append(projections_8bit)\n",
    "        \n",
    "        \n",
    "    # make filepath for output\n",
    "    outfile = out_path / (in_file.stem + f'_projected.png')\n",
    "    \n",
    "    merged_img = np.dstack((projs[0],projs[1],np.zeros_like(projs[0])))\n",
    "\n",
    "    # catch low contrast warning\n",
    "    with warnings.catch_warnings():\n",
    "        warnings.simplefilter('ignore', UserWarning)\n",
    "\n",
    "        imsave(str(outfile), merged_img)\n",
    "    \n",
    "    print(f'saved projections of {str(in_file)}.')"
   ]
  }
 ],
 "metadata": {
  "kernelspec": {
   "display_name": "Python 3 (ipykernel)",
   "language": "python",
   "name": "python3"
  },
  "language_info": {
   "codemirror_mode": {
    "name": "ipython",
    "version": 3
   },
   "file_extension": ".py",
   "mimetype": "text/x-python",
   "name": "python",
   "nbconvert_exporter": "python",
   "pygments_lexer": "ipython3",
   "version": "3.9.19"
  }
 },
 "nbformat": 4,
 "nbformat_minor": 4
}
