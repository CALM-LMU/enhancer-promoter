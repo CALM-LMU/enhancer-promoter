{
 "cells": [
  {
   "cell_type": "code",
   "execution_count": 8,
   "metadata": {},
   "outputs": [],
   "source": [
    "import json\n",
    "from pathlib import Path\n",
    "import numpy as np\n",
    "import pandas as pd\n",
    "import sys\n",
    "\n",
    "from utils.corrections import correct_chrom_shift"
   ]
  },
  {
   "cell_type": "markdown",
   "metadata": {},
   "source": [
    "# Correct Chromatic Aberrations for tables\n",
    "\n",
    "This notebook will use the channel-to-channel transformations estimated with ```chromatic_aberration_estimation{_elastix}.ipynb``` and apply them to tabular data containing coordinates.\n",
    "\n",
    "We need:\n",
    "1. the saved JSON transform information from the estimation recipes\n",
    "2. table(s) containing coordinates and the original channel\n",
    "\n",
    "**Input**\n",
    "1. path to a directory containing csv files\n",
    "2. path to the saved transforms\n",
    "3. path to write output to\n",
    "4. **Parameters**: which channel to use as reference, which columns to transform, optionally channel name map if the names differ in JSON and the tables\n",
    "\n",
    "This recipe will produce:\n",
    "* tables with additional columns containing the corrected coordinates and the reference channel\n",
    "* for each input table, a separate output table will be created"
   ]
  },
  {
   "cell_type": "code",
   "execution_count": 9,
   "metadata": {
    "tags": [
     "parameters"
    ]
   },
   "outputs": [],
   "source": [
    "# path of folder containing the csv with spot coordinates and where to save corrected files\n",
    "in_path = \"/home/stumberger/ep2024/example/detections/\"\n",
    "\n",
    "# which file(s) to transform\n",
    "csv_string = 'merge.csv' \n",
    "\n",
    "# registartion file to correct shift created with the `chromatic_abberation_estimation_elastix` \n",
    "# notebook in \"aligment\" module of image_analysis_recepies\n",
    "transforms_path = '/home/stumberger/ep2024/example/chrom_shift_reference/nups_channel_registration.json'\n",
    "\n",
    "# which channel the coordinates should be aligned to\n",
    "reference_channel = '405-CSU-W1'\n",
    "\n",
    "### column names of interest\n",
    "# specify how to find coordinates and the channel in tables\n",
    "# coordinate_column_names_unit = ['z', 'y', 'x']\n",
    "# alternatively, if you do not want to use unit columns, set them to None\n",
    "# coordinate_column_names_unit = None\n",
    "coordinate_column_names_pixel = ['z', 'y', 'x']\n",
    "channel_column_name = 'channel'\n",
    "\n",
    "# pixel size should be zyx-array\n",
    "pixel_size = [0.3,0.13,0.13]\n",
    "\n",
    "### channel renaming\n",
    "# if the channel names in the JSON transform file and the coordinate tables differ\n",
    "# e.g. if the OC names in NIS were different or images were resaved and just have channel 0, 1, ...,\n",
    "# we have to rename the channels from the JSON file to match the ones in the table\n",
    "# the channel alias map should have the form: name in JSON -> name in coordinate tables\n",
    "channel_aliases = {\n",
    "    '405-CSU-W1': '405-CSU-W1',\n",
    "    '488-CSU-W1': '488-CSU-W1',\n",
    "    '561-CSU-W1': 1,\n",
    "    '640-CSU-W1': 2\n",
    "}"
   ]
  },
  {
   "cell_type": "code",
   "execution_count": 10,
   "metadata": {},
   "outputs": [],
   "source": [
    "correct_chrom_shift(Path(in_path), Path(in_path), csv_string, Path(transforms_path), reference_channel,\n",
    "                        coordinate_column_names_pixel=coordinate_column_names_pixel, pixel_size = pixel_size,\n",
    "                        channel_column_name = channel_column_name, channel_aliases = channel_aliases)"
   ]
  }
 ],
 "metadata": {
  "kernelspec": {
   "display_name": "Python 3 (ipykernel)",
   "language": "python",
   "name": "python3"
  },
  "language_info": {
   "codemirror_mode": {
    "name": "ipython",
    "version": 3
   },
   "file_extension": ".py",
   "mimetype": "text/x-python",
   "name": "python",
   "nbconvert_exporter": "python",
   "pygments_lexer": "ipython3",
   "version": "3.9.19"
  }
 },
 "nbformat": 4,
 "nbformat_minor": 4
}
