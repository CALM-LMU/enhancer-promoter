{
 "cells": [
  {
   "cell_type": "markdown",
   "id": "2202cfa0",
   "metadata": {},
   "source": [
    "## Input\n",
    "- `tif`, each conatining only 1 channel\n",
    "- a cellpose classifyer (default or costum trained)\n",
    "\n",
    "## Outpout\n",
    "for each provided `tif`:\n",
    "- segmentation mask as `png`\n",
    "- segmentation mask as `npy`\n",
    "- segmentation outline as `txt`\n",
    "- vis folder with detection visualization for all `tif`s as `png` (good for checking segmentation results)"
   ]
  },
  {
   "cell_type": "markdown",
   "id": "6f66f80c",
   "metadata": {},
   "source": [
    "# 0) Imports and functions\n",
    "\n",
    "The functions required for this to work are collected in the `pipelines/fish_utils` folder. Download the folder from `/../` in this repository and `sys.path.append(/path/to/fish_utils/)`. You can skip this if you are providing `tif`s."
   ]
  },
  {
   "cell_type": "code",
   "execution_count": 8,
   "id": "4a358ded",
   "metadata": {},
   "outputs": [],
   "source": [
    "import os\n",
    "import numpy as np\n",
    "from glob import glob\n",
    "import matplotlib.pyplot as plt\n",
    "\n",
    "from cellpose import models,io\n",
    "from cellpose.io import imread\n",
    "from cellpose import plot\n",
    "\n",
    "import torch"
   ]
  },
  {
   "cell_type": "code",
   "execution_count": 9,
   "id": "b7cb3bb0",
   "metadata": {},
   "outputs": [
    {
     "data": {
      "text/plain": [
       "True"
      ]
     },
     "execution_count": 9,
     "metadata": {},
     "output_type": "execute_result"
    }
   ],
   "source": [
    "# to do the segmentaion fast work on the gpu\n",
    "device = torch.device('cuda:1')\n",
    "torch.cuda.is_available()"
   ]
  },
  {
   "cell_type": "markdown",
   "id": "3ae80a55",
   "metadata": {},
   "source": [
    "# 1) Parameters"
   ]
  },
  {
   "cell_type": "code",
   "execution_count": 10,
   "id": "0ea768b4",
   "metadata": {
    "tags": [
     "parameters"
    ]
   },
   "outputs": [],
   "source": [
    "# in path\n",
    "in_path = \"/home/stumberger/ep2024/example/\"\n",
    "\n",
    "# model\n",
    "model = \"/home/stumberger/ep2024/example/segmentation_model/es_20231026\"\n",
    "\n",
    "# segmentation parameters\n",
    "chan = [[0,0]]\n",
    "diams = 120\n",
    "min_size = 5000\n",
    "# sampling in z / sampling in xy (eg. 0.3 / 0.13 = 2.3)\n",
    "anisotropy = 2.3 "
   ]
  },
  {
   "cell_type": "code",
   "execution_count": 11,
   "id": "f75bc7b1",
   "metadata": {},
   "outputs": [
    {
     "name": "stderr",
     "output_type": "stream",
     "text": [
      "/home/stumberger/anaconda3/envs/cellpose/lib/python3.9/site-packages/cellpose/resnet_torch.py:271: FutureWarning: You are using `torch.load` with `weights_only=False` (the current default value), which uses the default pickle module implicitly. It is possible to construct malicious pickle data which will execute arbitrary code during unpickling (See https://github.com/pytorch/pytorch/blob/main/SECURITY.md#untrusted-models for more details). In a future release, the default value for `weights_only` will be flipped to `True`. This limits the functions that could be executed during unpickling. Arbitrary objects will no longer be allowed to be loaded via this mode unless they are explicitly allowlisted by the user via `torch.serialization.add_safe_globals`. We recommend you start setting `weights_only=True` for any use case where you don't have full control of the loaded file. Please open an issue on GitHub for any issues related to this experimental feature.\n",
      "  state_dict = torch.load(filename, map_location=device)\n"
     ]
    }
   ],
   "source": [
    "# model for segmentation\n",
    "model = models.CellposeModel(model_type = model, device=device)\n",
    "\n",
    "# in and out paths based on upper directory\n",
    "files = glob(f\"{in_path}/tif/*_ch0.tif\")\n",
    "out_path = f\"{in_path}/segmentation\""
   ]
  },
  {
   "cell_type": "markdown",
   "id": "5a5465b1",
   "metadata": {},
   "source": [
    "# 2) Segmentation"
   ]
  },
  {
   "cell_type": "code",
   "execution_count": 12,
   "id": "d157b2fa",
   "metadata": {},
   "outputs": [
    {
     "name": "stderr",
     "output_type": "stream",
     "text": [
      "100%|██████████████████████████████████████████| 31/31 [00:00<00:00, 425.42it/s]\n",
      "100%|██████████████████████████████████████████| 31/31 [00:00<00:00, 829.75it/s]\n"
     ]
    }
   ],
   "source": [
    "#create out directories\n",
    "os.makedirs(f\"{out_path}/vis\", exist_ok=True)\n",
    "\n",
    "# apply to all files\n",
    "for filename in files:\n",
    "    \n",
    "    img = io.imread(filename)\n",
    "    name = os.path.basename(filename).rsplit(\".\", 1)[0]\n",
    "    out = f\"{out_path}/{name}.tif\"\n",
    "    \n",
    "    masks, flows, styles = model.eval(img, \n",
    "                                      do_3D=True,\n",
    "                                      diameter = diams,\n",
    "                                      min_size = min_size,\n",
    "                                      anisotropy = anisotropy\n",
    "                                     )\n",
    "\n",
    "    # save results so you can load in gui\n",
    "    # io.masks_flows_to_seg(img, masks, flows, diams, out)\n",
    "    io.masks_flows_to_seg(img, masks, flows, out, diams) \n",
    "\n",
    "    # save results as png\n",
    "    io.save_masks(img, masks, flows, out, tif=True)\n",
    "    \n",
    "    # max projection of segmentation for quick visualization\n",
    "    fig = plt.figure(figsize=(12,5))\n",
    "    plot.show_segmentation(fig, img.max(axis=0), masks.max(axis=0), flows[0].max(axis=0), channels=chan)\n",
    "    plt.tight_layout()\n",
    "    fig.savefig(f\"{out_path}/vis/{os.path.basename(out)}.png\",dpi=300)\n",
    "    plt.close(fig)"
   ]
  }
 ],
 "metadata": {
  "kernelspec": {
   "display_name": "Python 3 (ipykernel)",
   "language": "python",
   "name": "python3"
  },
  "language_info": {
   "codemirror_mode": {
    "name": "ipython",
    "version": 3
   },
   "file_extension": ".py",
   "mimetype": "text/x-python",
   "name": "python",
   "nbconvert_exporter": "python",
   "pygments_lexer": "ipython3",
   "version": "3.9.19"
  }
 },
 "nbformat": 4,
 "nbformat_minor": 5
}
