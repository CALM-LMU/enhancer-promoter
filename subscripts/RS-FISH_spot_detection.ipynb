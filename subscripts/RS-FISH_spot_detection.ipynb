{
 "cells": [
  {
   "cell_type": "markdown",
   "id": "97170bf8",
   "metadata": {},
   "source": [
    "# Worflow of this notebook:\n",
    "\n",
    "## Input\n",
    "- single channel `tif` files \n",
    "- a `Log.txt` file generated via RS-FISH Fiji plugin for each channel in your images \n",
    "- an `acquisition_info.json` file with the sample metadata which you wish to be added to your spots\n",
    "\n",
    "## Outpout\n",
    "- folder containing a `csv` file for each provioded `tif`\n",
    "- `merge.csv` file combining spots and their metadata from all images in the batch\n",
    "- vis folder with detection visualization for all `tif`s as `png` (good for checking detection results)"
   ]
  },
  {
   "cell_type": "markdown",
   "id": "a0e82cf7",
   "metadata": {},
   "source": [
    "# 0) Imports and functions\n",
    "\n",
    "The functions required for this to work are collected in the `pipelines/fish_utils` folder. Download the folder from `/../` in this repository and `sys.path.append(/path/to/fish_utils/)`."
   ]
  },
  {
   "cell_type": "code",
   "execution_count": null,
   "id": "71b60c51",
   "metadata": {},
   "outputs": [],
   "source": [
    "import json\n",
    "import os\n",
    "from glob import glob\n",
    "import sys\n",
    "import tifffile\n",
    "import pandas as pd\n",
    "import numpy as np\n",
    "import torch\n",
    "from pathlib import Path\n",
    "from natsort import natsorted\n",
    "import matplotlib.pyplot as plt\n",
    "from matplotlib.colors import Normalize\n",
    "from skimage.io import imread\n",
    "\n",
    "from utils.spot_detection import read_parameters, make_fiji_command, detect_spots, combine_csv, add_sample_info, create_folder, plot_detections"
   ]
  },
  {
   "cell_type": "markdown",
   "id": "cbceca73",
   "metadata": {},
   "source": [
    "# 1) Detect spots \n",
    "Before running this, open a few of your images in fiji, run RS-FISH on it, and save the Log.txt file with the spot detection parameters for each channel - **IMPORTAINT!**"
   ]
  },
  {
   "cell_type": "code",
   "execution_count": null,
   "id": "c34885af",
   "metadata": {
    "tags": [
     "parameters"
    ]
   },
   "outputs": [],
   "source": [
    "in_path = \"/home/stumberger/ep2024/example/\" # path to upper level directory\n",
    "tif_subfolder = \"tif/\" # where the tifs which to detect spots in are saved\n",
    "out_subfolder = \"detections\" # what to name the subfolder ot save the spots\n",
    "channels = [1,2] # which channel to detect spots in (counting starts at 0!)\n",
    "detection_settings  = None\n",
    "\n",
    "# link to your fiji installation with RS-FISH installed\n",
    "fiji_path = \"/home/stumberger/tools/Fiji.app/ImageJ-linux64\"\n",
    "\n",
    "# link to the Fiji Macro (under \".../subscripts/utils/RS_macro_param.ijm\")\n",
    "macro_path =  \"/home/stumberger/ep2024/subscripts/utils/RS_macro_param.ijm\""
   ]
  },
  {
   "cell_type": "code",
   "execution_count": null,
   "id": "e8f83396",
   "metadata": {},
   "outputs": [],
   "source": [
    "# generate default detection_settings path if none given\n",
    "if detection_settings is None:\n",
    "    detection_settings = []\n",
    "    for c in channels:\n",
    "        detection_settings.append(os.path.normpath(f'{in_path}/{out_subfolder}/ch{c}.txt'))\n",
    "else:\n",
    "    pass\n",
    "\n",
    "# run\n",
    "detect_spots(in_path,detection_settings,channels,\n",
    "             tif_subfolder = tif_subfolder,\n",
    "             out_subfolder = out_subfolder,\n",
    "             macro_path =macro_path,\n",
    "             fiji_path = fiji_path)\n",
    "\n",
    "# combine all csvs in a folder into 1 and add sample info\n",
    "combine_csv(in_path,tif_subfolder,out_subfolder)\n",
    "add_sample_info(in_path, info=f\"{in_path}/acquisition_info.json\",out_subfolder=out_subfolder)"
   ]
  },
  {
   "cell_type": "markdown",
   "id": "29569e27",
   "metadata": {},
   "source": [
    "# 2) Visualize detection"
   ]
  },
  {
   "cell_type": "code",
   "execution_count": null,
   "id": "8e9df4ea",
   "metadata": {},
   "outputs": [],
   "source": [
    " #path to `merge.csv` file; if None defaults to /.../detections/merge.csv \n",
    "path_spots= os.path.normpath(f'{in_path}/{out_subfolder}/merge.csv') \n",
    "\n",
    "#where to save visualisations; if None defaults to /.../detections/vis\n",
    "out_folder = os.path.normpath(f'{in_path}/{out_subfolder}/vis/') \n",
    "\n",
    "# which channel to plot spots for (counting starts at 0!)\n",
    "channels = channels \n",
    "\n",
    "# intensity scaling for images\n",
    "range_quantiles = (0.03, 0.99)\n",
    "\n",
    "plot_detections(in_path,channels,path_spots=path_spots,tif_subfolder=tif_subfolder,out_folder=out_folder)"
   ]
  }
 ],
 "metadata": {
  "kernelspec": {
   "display_name": "Python 3 (ipykernel)",
   "language": "python",
   "name": "python3"
  },
  "language_info": {
   "codemirror_mode": {
    "name": "ipython",
    "version": 3
   },
   "file_extension": ".py",
   "mimetype": "text/x-python",
   "name": "python",
   "nbconvert_exporter": "python",
   "pygments_lexer": "ipython3",
   "version": "3.9.19"
  }
 },
 "nbformat": 4,
 "nbformat_minor": 5
}
