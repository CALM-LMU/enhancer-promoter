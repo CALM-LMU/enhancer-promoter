{
 "cells": [
  {
   "cell_type": "markdown",
   "id": "a55cbcf5",
   "metadata": {},
   "source": [
    "# 3: Detect and align confocal / STED spots, calculate distances"
   ]
  },
  {
   "cell_type": "markdown",
   "id": "b51a5440",
   "metadata": {},
   "source": [
    "0) Create projections of DNA (target) and RNA (moving) FISH images for easier visualization.\n",
    "1) Resave each `msr` file to a `tif` file, where each channel is an individual file, with the suffix`_ch{number}`\n",
    "2) Detect RNA FISH spots, using RS-FISH settings files as input, outputing `merge.csv` list of spots\n",
    "3) Detect DNA FISH spots images, using RS-FISH settings files as input, outputing `merge.csv` list of spots\n",
    "4) Get global coordinates for DNA and RNA FISH spots\n",
    "5) Align RNA to DNA FISH spots based on bead alignment from notebook 2)\n",
    "6) Match DNA and RNA spots and calculate distances\n",
    "\n",
    "For more details about required in and output please look at the individual notebooks used in the pipeline."
   ]
  },
  {
   "cell_type": "code",
   "execution_count": null,
   "id": "a50286be",
   "metadata": {},
   "outputs": [],
   "source": [
    "import os\n",
    "import queue\n",
    "import pandas as pd\n",
    "from pathlib import Path\n",
    "from datetime import datetime\n",
    "import papermill as pm\n",
    "from multiprocessing import Pool\n",
    "import concurrent.futures\n",
    "\n",
    "def run_notebook(parameters,notebook_to_run,parameters_common={}):\n",
    "    \n",
    "    # change to directory where the notebook is (resolve relative imports)\n",
    "    os.chdir(Path(notebook_to_run).absolute().parent)\n",
    "    \n",
    "    # run notebook\n",
    "    for parameters_spec in parameters_list:\n",
    "        parameters = {**parameters_common, **parameters_spec}\n",
    "\n",
    "        pm.execute_notebook(\n",
    "           notebook_to_run,\n",
    "           '/dev/null',\n",
    "           parameters=parameters)"
   ]
  },
  {
   "cell_type": "markdown",
   "id": "291e2f07",
   "metadata": {},
   "source": [
    "# 1) Spot detection RNA\n",
    "**In:** \n",
    "- `tif_subfolder` containing single channel `tif` images\n",
    "- `out_subfolder` containing spot detection settings file `chX.txt` generated via RS-FISH Fiji plugin for each channel specified in `channels`\n",
    "- `acquisition_info.json` file with the sample metadata which you wish to be added to your spots\n",
    "\n",
    "**Out:**\n",
    "- folder containing a `csv` file for each provioded `tif`\n",
    "- `merge.csv` file combining spots and their metadata from all images in the batch\n",
    "- vis folder with detection visualization for all `tif`s as `png` (good for checking detection results)"
   ]
  },
  {
   "cell_type": "code",
   "execution_count": null,
   "id": "317c9be7",
   "metadata": {},
   "outputs": [],
   "source": [
    "parameters_list = [\n",
    "    {\"in_path\": \"/home/stumberger/ep2024/RNA_DNA_FISH_spot_detection/example/RNAFISH/\"}\n",
    "]\n",
    "\n",
    "parameters_common = {\"channels\": [0],\n",
    "                    \"out_subfolder\": \"detections_confocal/\"}\n",
    "\n",
    "notebook_to_run = \"/home/stumberger/ep2024/subscripts/RS-FISH_spot_detection.ipynb\"\n",
    "\n",
    "run_notebook(parameters_list,notebook_to_run,parameters_common)"
   ]
  },
  {
   "cell_type": "markdown",
   "id": "f6f1b375",
   "metadata": {},
   "source": [
    "# 2) Spot detection DNA\n",
    "See 1)"
   ]
  },
  {
   "cell_type": "code",
   "execution_count": null,
   "id": "01c8cd6b-611a-419a-92b5-07099cff7135",
   "metadata": {},
   "outputs": [],
   "source": [
    "parameters_list = [\n",
    "    {\"in_path\": \"/home/stumberger/ep2024/RNA_DNA_FISH_spot_detection/example/DNAFISH/\"}\n",
    "]\n",
    "\n",
    "parameters_common = {\"channels\": [0,1],\n",
    "                    \"out_subfolder\": \"detections_confocal/\"}\n",
    "\n",
    "notebook_to_run = \"/home/stumberger/image-analyis-recipes/spot-detection/RS-FISH_spot_detection.ipynb\"\n",
    "\n",
    "run_notebook(parameters_list,notebook_to_run,parameters_common)"
   ]
  },
  {
   "cell_type": "markdown",
   "id": "7f02309d-7018-43f7-8168-5987fed5214b",
   "metadata": {},
   "source": [
    "# 3) Get global coordinates"
   ]
  },
  {
   "cell_type": "code",
   "execution_count": null,
   "id": "72cac686-e379-4e60-a52a-f4cf476ca756",
   "metadata": {},
   "outputs": [],
   "source": [
    "parameters_list = [\n",
    "    {\"in_path\": \"/home/stumberger/ep2024/RNA_DNA_FISH_spot_detection/example/DNAFISH/\"},\n",
    "    {\"in_path\": \"/home/stumberger/ep2024/RNA_DNA_FISH_spot_detection/example/RNAFISH/\"}\n",
    "]\n",
    "\n",
    "### common parameters\n",
    "parameters_common = {\n",
    "    \"raw_subpath\" : \"raw\", # subpath where raw h5/msr images are saved\n",
    "    \"spots_subpath\": \"detections_confocal/merge.csv\", # single or multiple (*) spot files\n",
    "    \"out_subpath\" : \"detections_confocal/\", #w here to save results\n",
    "    \n",
    "    \"coordinate_column_names\" : ['z', 'y', 'x'], # naming of xyz coordinates\n",
    "    \"global_coordinate_column_names\" : ['z_global_um', 'y_global_um', 'x_global_um'], # how to call global coordinate columns\n",
    "    \"image_file_column_name\" : 'img', # name of img file column\n",
    "    \n",
    "    \"use_h5_for_metadata\" : False, # use h5 (faster) or msr? \n",
    "}\n",
    "\n",
    "notebook_to_run = \"/home/stumberger/ep2024/subscripts/get_global_coordinates_sted.ipynb\"\n",
    "\n",
    "run_notebook(parameters_list,notebook_to_run,parameters_common)"
   ]
  },
  {
   "cell_type": "markdown",
   "id": "c221e29f-3243-4725-9aa0-5d3c37edc639",
   "metadata": {},
   "source": [
    "# 4) Align RNA and DNA FISH spots based on beads alignment"
   ]
  },
  {
   "cell_type": "code",
   "execution_count": null,
   "id": "15d59b90-4ab0-4d54-ba25-dcd7b6cd7990",
   "metadata": {},
   "outputs": [],
   "source": [
    "parameters_list = [\n",
    "    {\"base_path_target\": \"/home/stumberger/ep2024/RNA_DNA_FISH_spot_detection/example/DNAFISH/\",\n",
    "     \"base_path_moving\": \"/home/stumberger/ep2024/RNA_DNA_FISH_spot_detection/example/RNAFISH/\"}\n",
    "]\n",
    "\n",
    "### common parameters\n",
    "parameters_common = {\n",
    "    \"df_subdir_moving\": \"detections_confocal/merge_global_coords.csv\",\n",
    "    \"df_subdir_target\": \"detections_confocal/merge_global_coords.csv\",\n",
    "    \"alignment_params_file_moving\": \"alignment_parameters/alignment_parameters_global.json\",\n",
    "    \"out_subdir\" : \"detections_confocal\",\n",
    "    \"save_projections\" : True,\n",
    "    \"projections_subdir\" : \"vis\"\n",
    "}\n",
    "\n",
    "notebook_to_run = \"/home/stumberger/ep2024/subscripts/apply_alignment_to_coordinates.ipynb\"\n",
    "\n",
    "run_notebook(parameters_list,notebook_to_run,parameters_common)"
   ]
  },
  {
   "cell_type": "markdown",
   "id": "855b34a6-c7c1-44bc-980c-11046669bc48",
   "metadata": {},
   "source": [
    "# 5) Calculate DNA-DNA and RNA-DNA distances"
   ]
  },
  {
   "cell_type": "code",
   "execution_count": null,
   "id": "18825ba7-5242-4b38-be1f-3217034026e5",
   "metadata": {},
   "outputs": [],
   "source": [
    "parameters_list = [\n",
    "    {\"in_path1\": \"/home/stumberger/ep2024/RNA_DNA_FISH_spot_detection/example/DNAFISH/\", # DNA FISH path\n",
    "     \"in_path2\": \"/home/stumberger/ep2024/RNA_DNA_FISH_spot_detection/example/RNAFISH/\", # RNA FISH path \n",
    "     \"out\": \"/home/stumberger/ep2024/RNA_DNA_FISH_spot_detection/example/distances_confocal.csv\" } # which directory to save the output to \n",
    "]\n",
    "\n",
    "### common parameters\n",
    "parameters_common = {\n",
    "    \"channels\": [0,1], # which DNA channels to match\n",
    "    \"ch_p\": 0 # which channel is the promoter?\n",
    "}\n",
    "\n",
    "notebook_to_run = \"/home/stumberger/ep2024/subscripts/paired_spot_distances_2_channels_conf-RNA_DNA.ipynb\"\n",
    "\n",
    "run_notebook(parameters_list,notebook_to_run,parameters_common)"
   ]
  }
 ],
 "metadata": {
  "kernelspec": {
   "display_name": "Python 3 (ipykernel)",
   "language": "python",
   "name": "python3"
  },
  "language_info": {
   "codemirror_mode": {
    "name": "ipython",
    "version": 3
   },
   "file_extension": ".py",
   "mimetype": "text/x-python",
   "name": "python",
   "nbconvert_exporter": "python",
   "pygments_lexer": "ipython3",
   "version": "3.9.19"
  }
 },
 "nbformat": 4,
 "nbformat_minor": 5
}
