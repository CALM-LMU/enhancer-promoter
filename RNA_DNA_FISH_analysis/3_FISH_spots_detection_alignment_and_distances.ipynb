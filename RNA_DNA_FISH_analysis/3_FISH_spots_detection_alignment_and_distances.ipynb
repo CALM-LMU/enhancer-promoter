{
 "cells": [
  {
   "cell_type": "markdown",
   "id": "a55cbcf5",
   "metadata": {},
   "source": [
    "# 3: Detect and align confocal / STED spots, calculate distances"
   ]
  },
  {
   "cell_type": "markdown",
   "id": "b51a5440",
   "metadata": {},
   "source": [
    "0) Split aligend DNA and RNA `tif` images into single channels. \n",
    "2) Detect RNA and DNA FISH spots in same image (confocal or STED), using RS-FISH settings files as input, outputing `merge_subpixel.csv` list of spots\n",
    "3) Match DNA and RNA spots and calculate distances\n",
    "\n",
    "For more details about required in and output please look at the individual notebooks used in the pipeline."
   ]
  },
  {
   "cell_type": "code",
   "execution_count": null,
   "id": "a50286be",
   "metadata": {},
   "outputs": [],
   "source": [
    "import os\n",
    "import queue\n",
    "import pandas as pd\n",
    "from pathlib import Path\n",
    "from datetime import datetime\n",
    "import papermill as pm\n",
    "from multiprocessing import Pool\n",
    "import concurrent.futures\n",
    "\n",
    "def run_notebook(parameters,notebook_to_run,parameters_common={}):\n",
    "    \n",
    "    # change to directory where the notebook is (resolve relative imports)\n",
    "    os.chdir(Path(notebook_to_run).absolute().parent)\n",
    "    \n",
    "    # run notebook\n",
    "    for parameters_spec in parameters_list:\n",
    "        parameters = {**parameters_common, **parameters_spec}\n",
    "\n",
    "        pm.execute_notebook(\n",
    "           notebook_to_run,\n",
    "           '/dev/null',\n",
    "           parameters=parameters)"
   ]
  },
  {
   "cell_type": "markdown",
   "id": "dcf1be61-ec50-497e-8736-43078011a315",
   "metadata": {},
   "source": [
    "# 0) Split tifs into individual channels"
   ]
  },
  {
   "cell_type": "code",
   "execution_count": null,
   "id": "49ced294-e81c-48c4-bf23-cab9849027ea",
   "metadata": {},
   "outputs": [],
   "source": [
    "parameters_list = [\n",
    "    {\"in_path\": \"/home/stumberger/ep2024/RNA_DNA_FISH_spot_detection/example/DNAFISH/\"}\n",
    "]\n",
    "\n",
    "parameters_common = {\"tif_path_suffix\": \"aligned_confocal\",      # tif folder suffix relative to in_path\n",
    "                     \"out_path_suffix\": \"tif_aligned_confocal\"}  # out folder suffix relative to out_path\n",
    "\n",
    "notebook_to_run = \"/home/stumberger/ep2024/subscripts/resave_tif_as_tif_split_channel.ipynb\"\n",
    "\n",
    "run_notebook(parameters_list,notebook_to_run,parameters_common)"
   ]
  },
  {
   "cell_type": "markdown",
   "id": "291e2f07",
   "metadata": {},
   "source": [
    "# 1) Spot detection DNA and RNA\n",
    "**In:** \n",
    "- `tif_subfolder` containing single channel `tif` images\n",
    "- `out_subfolder` containing spot detection settings file `chX.txt` generated via RS-FISH Fiji plugin for each channel specified in `channels`\n",
    "- `acquisition_info.json` file with the sample metadata which you wish to be added to your spots\n",
    "\n",
    "**Out:**\n",
    "- folder containing a `csv` file for each provioded `tif`\n",
    "- `merge_subpixel.csv` file combining spots and their metadata from all images in the batch\n",
    "- vis folder with detection visualization for all `tif`s as `png` (good for checking detection results)"
   ]
  },
  {
   "cell_type": "code",
   "execution_count": null,
   "id": "317c9be7",
   "metadata": {},
   "outputs": [],
   "source": [
    "parameters_list = [\n",
    "    {\"in_path\": \"/home/stumberger/ep2024/RNA_DNA_FISH_spot_detection/example/DNAFISH/\"}\n",
    "]\n",
    "\n",
    "parameters_common = {\"channels\": [0,1,2],\n",
    "                     \"tif_subfolder\": \"tif_aligned_confocal\",\n",
    "                     \"out_subfolder\": \"detections_confocal1\"}\n",
    "\n",
    "notebook_to_run = \"/home/stumberger/ep2024/subscripts/RS-FISH_spot_detection.ipynb\"\n",
    "\n",
    "run_notebook(parameters_list,notebook_to_run,parameters_common)"
   ]
  },
  {
   "cell_type": "markdown",
   "id": "855b34a6-c7c1-44bc-980c-11046669bc48",
   "metadata": {},
   "source": [
    "# 2) Calculate DNA-DNA and RNA-DNA distances"
   ]
  },
  {
   "cell_type": "code",
   "execution_count": null,
   "id": "18825ba7-5242-4b38-be1f-3217034026e5",
   "metadata": {},
   "outputs": [],
   "source": [
    "parameters_list = [\n",
    "    {\"in_path\": \"/home/stumberger/ep2024/RNA_DNA_FISH_spot_detection/example/DNAFISH/\"} # out path\n",
    "]\n",
    "\n",
    "### common parameters\n",
    "parameters_common = {\n",
    "     \"rel_spot_path\": \"/detections_confocal1/merge_subpixel.csv\", # spot file path relative to in_path1\n",
    "     \"channels_ep\": [0,1], # E - P channels,\n",
    "     \"channels_pr\": [0,2], # P - RNA channels,\n",
    "    \"out\": \"/home/stumberger/ep2024/RNA_DNA_FISH_spot_detection/example/distances_confocal_subpixel.csv\"\n",
    "}\n",
    "\n",
    "notebook_to_run = \"/home/stumberger/ep2024/subscripts/paired_spot_distances_RNA_DNA.ipynb\"\n",
    "\n",
    "run_notebook(parameters_list,notebook_to_run,parameters_common)"
   ]
  }
 ],
 "metadata": {
  "kernelspec": {
   "display_name": "Python 3 (ipykernel)",
   "language": "python",
   "name": "python3"
  },
  "language_info": {
   "codemirror_mode": {
    "name": "ipython",
    "version": 3
   },
   "file_extension": ".py",
   "mimetype": "text/x-python",
   "name": "python",
   "nbconvert_exporter": "python",
   "pygments_lexer": "ipython3",
   "version": "3.9.19"
  }
 },
 "nbformat": 4,
 "nbformat_minor": 5
}
