{
 "cells": [
  {
   "cell_type": "markdown",
   "id": "a55cbcf5",
   "metadata": {},
   "source": [
    "# 1: Detecting beads for alignment"
   ]
  },
  {
   "cell_type": "markdown",
   "id": "b51a5440",
   "metadata": {},
   "source": [
    "0) Create projections of DNA (target) and RNA (moving) FISH images for easier visualization.\n",
    "1) Resave each `msr` file to a `tif` file, where each channel is an individual file, with the suffix`_ch{number}`\n",
    "2) Detect beads in RNA images, using RS-FISH settings files as input, outputing `merge.csv` list of spots\n",
    "3) Detect beads in DNA images, using RS-FISH settings files as input, outputing `merge.csv` list of spots\n",
    "\n",
    "For more details about required in and output please look at the individual notebooks used in the pipeline."
   ]
  },
  {
   "cell_type": "code",
   "execution_count": null,
   "id": "a50286be",
   "metadata": {},
   "outputs": [],
   "source": [
    "import os\n",
    "import queue\n",
    "import pandas as pd\n",
    "from pathlib import Path\n",
    "from datetime import datetime\n",
    "import papermill as pm\n",
    "from multiprocessing import Pool\n",
    "import concurrent.futures\n",
    "\n",
    "\n",
    "def run_notebook(parameters,notebook_to_run,parameters_common={}):\n",
    "    \n",
    "    # change to directory where the notebook is (resolve relative imports)\n",
    "    os.chdir(Path(notebook_to_run).absolute().parent)\n",
    "    \n",
    "    # run notebook\n",
    "    for parameters_spec in parameters_list:\n",
    "        parameters = {**parameters_common, **parameters_spec}\n",
    "\n",
    "        pm.execute_notebook(\n",
    "           notebook_to_run,\n",
    "           '/dev/null',\n",
    "           parameters=parameters)"
   ]
  },
  {
   "cell_type": "markdown",
   "id": "9e85b4c7",
   "metadata": {},
   "source": [
    "# 0) Create projections\n",
    "**In:** folder with 2-channel `.msr` images\n",
    "\n",
    "**Out:** folder `projections` with maximum inensity projections `.png` images"
   ]
  },
  {
   "cell_type": "code",
   "execution_count": null,
   "id": "2a1cffa5",
   "metadata": {},
   "outputs": [],
   "source": [
    "parameters_list = [\n",
    "    {\"in_path\": \"/home/stumberger/ep2024/RNA_DNA_FISH_spot_detection/example/DNAFISH/\"},\n",
    "    {\"in_path\": \"/home/stumberger/ep2024/RNA_DNA_FISH_spot_detection/example/RNAFISH/\"}\n",
    "]\n",
    "\n",
    "notebook_to_run = \"/home/stumberger/ep2024/subscripts/msr_make_projections_2_color.ipynb\"\n",
    "\n",
    "run_notebook(parameters_list,notebook_to_run)"
   ]
  },
  {
   "cell_type": "markdown",
   "id": "6f99ba48",
   "metadata": {},
   "source": [
    "# 1) Split channels and resave `msr` as `tif`\n",
    "**In:** folder containing folder `raw` with `.msr` images\n",
    "\n",
    "**Out:** folder `tif` with `.tif` images split by channel"
   ]
  },
  {
   "cell_type": "code",
   "execution_count": null,
   "id": "bb034710",
   "metadata": {},
   "outputs": [],
   "source": [
    "parameters_list = [\n",
    "    {\"in_path\": \"/home/stumberger/ep2024/RNA_DNA_FISH_spot_detection/example/DNAFISH/\"},\n",
    "    {\"in_path\": \"/home/stumberger/ep2024/RNA_DNA_FISH_spot_detection/example/RNAFISH/\"}\n",
    "]\n",
    "\n",
    "notebook_to_run = \"/home/stumberger/ep2024/subscripts/resave_msr_as_tif.ipynb\"\n",
    "\n",
    "run_notebook(parameters_list,notebook_to_run)"
   ]
  },
  {
   "cell_type": "markdown",
   "id": "291e2f07",
   "metadata": {},
   "source": [
    "# 2) Spot detection RNA beads\n",
    "**In:** \n",
    "- `tif_subfolder` containing single channel `tif` images\n",
    "- `out_subfolder` containing spot detection settings file `chX.txt` generated via RS-FISH Fiji plugin for each channel specified in `channels`\n",
    "- `acquisition_info.json` file with the sample metadata which you wish to be added to your spots\n",
    "\n",
    "**Out:**\n",
    "- folder containing a `csv` file for each provioded `tif`\n",
    "- `merge.csv` file combining spots and their metadata from all images in the batch\n",
    "- vis folder with detection visualization for all `tif`s as `png` (good for checking detection results)"
   ]
  },
  {
   "cell_type": "code",
   "execution_count": null,
   "id": "317c9be7",
   "metadata": {},
   "outputs": [],
   "source": [
    "parameters_list = [\n",
    "    {\"in_path\": \"/home/stumberger/ep2024/RNA_DNA_FISH_spot_detection/example/RNAFISH/\"}\n",
    "]\n",
    "\n",
    "parameters_common = {\"channels\": [1],\n",
    "                    \"out_subfolder\": \"detections_beads/\"}\n",
    "\n",
    "notebook_to_run = \"/home/stumberger/ep2024/subscripts/RS-FISH_spot_detection.ipynb\"\n",
    "\n",
    "run_notebook(parameters_list,notebook_to_run,parameters_common)"
   ]
  },
  {
   "cell_type": "markdown",
   "id": "f6f1b375",
   "metadata": {},
   "source": [
    "# 3) Spot detection DNA beads\n",
    "See 2)"
   ]
  },
  {
   "cell_type": "code",
   "execution_count": null,
   "id": "161ae592",
   "metadata": {},
   "outputs": [],
   "source": [
    "parameters_list = [\n",
    "    {\"in_path\": \"/home/stumberger/ep2024/RNA_DNA_FISH_spot_detection/example/DNAFISH/\"}\n",
    "]\n",
    "\n",
    "parameters_common = {\"channels\": [2],\n",
    "                    \"out_subfolder\": \"detections_beads/\"}\n",
    "\n",
    "notebook_to_run = \"/home/stumberger/image-analyis-recipes/spot-detection/RS-FISH_spot_detection.ipynb\"\n",
    "\n",
    "run_notebook(parameters_list,notebook_to_run,parameters_common)"
   ]
  }
 ],
 "metadata": {
  "kernelspec": {
   "display_name": "Python 3 (ipykernel)",
   "language": "python",
   "name": "python3"
  },
  "language_info": {
   "codemirror_mode": {
    "name": "ipython",
    "version": 3
   },
   "file_extension": ".py",
   "mimetype": "text/x-python",
   "name": "python",
   "nbconvert_exporter": "python",
   "pygments_lexer": "ipython3",
   "version": "3.9.19"
  }
 },
 "nbformat": 4,
 "nbformat_minor": 5
}
