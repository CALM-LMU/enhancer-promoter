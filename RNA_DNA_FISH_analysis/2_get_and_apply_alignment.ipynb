{
 "cells": [
  {
   "cell_type": "markdown",
   "id": "0a614c5b",
   "metadata": {},
   "source": [
    "# 2: Align DNA and RNA FISH images"
   ]
  },
  {
   "cell_type": "markdown",
   "id": "851b0796",
   "metadata": {},
   "source": [
    "1) Get global coorrdinates for DNA and RNA FISH beads.\n",
    "2) Get local and global alignment for images.\n",
    "3) Apply alignment to images.\n",
    "\n",
    "For more details about required in and output please look at the individual notebooks used in the pipeline."
   ]
  },
  {
   "cell_type": "code",
   "execution_count": null,
   "id": "84fbf7f8",
   "metadata": {},
   "outputs": [],
   "source": [
    "import os\n",
    "import queue\n",
    "import pandas as pd\n",
    "from pathlib import Path\n",
    "from datetime import datetime\n",
    "import papermill as pm\n",
    "from multiprocessing import Pool\n",
    "import concurrent.futures\n",
    "\n",
    "def run_notebook(parameters,notebook_to_run,parameters_common={},out= '/dev/null'):\n",
    "    \n",
    "    # change to directory where the notebook is (resolve relative imports)\n",
    "    os.chdir(Path(notebook_to_run).absolute().parent)\n",
    "    \n",
    "    # run notebook\n",
    "    for parameters_spec in parameters_list:\n",
    "        parameters = {**parameters_common, **parameters_spec}\n",
    "\n",
    "        pm.execute_notebook(\n",
    "            notebook_to_run,\n",
    "            out,\n",
    "            parameters=parameters)"
   ]
  },
  {
   "cell_type": "markdown",
   "id": "e4280fef",
   "metadata": {},
   "source": [
    "# 1) Get global coordinates"
   ]
  },
  {
   "cell_type": "code",
   "execution_count": null,
   "id": "b9a5116a",
   "metadata": {},
   "outputs": [],
   "source": [
    "parameters_list = [\n",
    "    {\"in_path\": \"/home/stumberger/ep2024/RNA_DNA_FISH_spot_detection/example/DNAFISH/\"},\n",
    "    {\"in_path\": \"/home/stumberger/ep2024/RNA_DNA_FISH_spot_detection/example/RNAFISH/\"}\n",
    "]\n",
    "\n",
    "### common parameters\n",
    "parameters_common = {\n",
    "    \"raw_subpath\" : \"raw\", # subpath where raw h5/msr images are saved\n",
    "    \"spots_subpath\": \"detections_beads/merge.csv\", # single or multiple (*) spot files\n",
    "    \"out_subpath\" : \"detections_beads/\", #w here to save results\n",
    "    \n",
    "    \"coordinate_column_names\" : ['z', 'y', 'x'], # naming of xyz coordinates\n",
    "    \"global_coordinate_column_names\" : ['z_global_um', 'y_global_um', 'x_global_um'], # how to call global coordinate columns\n",
    "    \"image_file_column_name\" : 'img', # name of img file column\n",
    "    \n",
    "    \"use_h5_for_metadata\" : False, # use h5 (faster) or msr? \n",
    "}\n",
    "\n",
    "notebook_to_run = \"/home/stumberger/ep2024/subscripts/get_global_coordinates_sted.ipynb\"\n",
    "\n",
    "run_notebook(parameters_list,notebook_to_run,parameters_common)"
   ]
  },
  {
   "cell_type": "markdown",
   "id": "3f5f887f",
   "metadata": {},
   "source": [
    "# 2) Get alignment for images\n",
    "Plase always chcek that the alignment is correct, by going to the original `ep2024/subscripts/find_transformations_sted.ipynb` script and checking the images in step 3)."
   ]
  },
  {
   "cell_type": "code",
   "execution_count": null,
   "id": "3a9bc8d8",
   "metadata": {},
   "outputs": [],
   "source": [
    "parameters_list = [\n",
    "    {\n",
    "        \"detection_table1_path\": \"/home/stumberger/ep2024/RNA_DNA_FISH_spot_detection/example/DNAFISH/detections_beads/merge_global_coords.csv\",\n",
    "        \"detection_table2_path\": \"/home/stumberger/ep2024/RNA_DNA_FISH_spot_detection/example/RNAFISH/detections_beads/merge_global_coords.csv\"\n",
    "    }\n",
    "]\n",
    "\n",
    "parameters_common = {\n",
    "    \"json_save_path_g\": \"/home/stumberger/ep2024/RNA_DNA_FISH_spot_detection/example/DNAFISH/transformations.json\",\n",
    "    \"json_save_path_l\":\"/home/stumberger/ep2024/RNA_DNA_FISH_spot_detection/example/DNAFISH/transformations_local_1round.json\",\n",
    "    \"coordinate_columns_yx\" : ['x_global_um', 'y_global_um'],\n",
    "    \"coordinate_column_z\": 'z_global_um',\n",
    "    \"image_file_column\" : \"img\",\n",
    "    \"summary_df_save_path\": \"/home/stumberger/ep2024/RNA_DNA_FISH_spot_detection/example/DNAFISH/alignment_accuracy.csv\"\n",
    "}\n",
    "    \n",
    "notebook_to_run = \"/home/stumberger/ep2024/subscripts/find_transformations_sted.ipynb\"\n",
    "\n",
    "run_notebook(parameters_list,notebook_to_run,parameters_common)"
   ]
  },
  {
   "cell_type": "markdown",
   "id": "24f514b1",
   "metadata": {},
   "source": [
    "# 3) Align bead images"
   ]
  },
  {
   "cell_type": "code",
   "execution_count": null,
   "id": "0b76f799",
   "metadata": {},
   "outputs": [],
   "source": [
    "parameters_list = [\n",
    "    {\n",
    "        \"base_path_target\": \"/home/stumberger/ep2024/RNA_DNA_FISH_spot_detection/example/DNAFISH/\",\n",
    "        \"base_path_moving\": \"/home/stumberger/ep2024/RNA_DNA_FISH_spot_detection/example/RNAFISH/\"\n",
    "    }\n",
    "]\n",
    "\n",
    "parameters_common = {\n",
    "    \"alignment_params_file\" : '/home/stumberger/ep2024/RNA_DNA_FISH_spot_detection/example/DNAFISH/transformations_local_1round.json',\n",
    "    \"exclude_pattern_target\" : \"sted\",\n",
    "    \"include_pattern_target\" : None,\n",
    "    \"exclude_pattern_moving\" : None,\n",
    "    \"include_pattern_moving\" : None,\n",
    "\n",
    "    \"channels_to_include_target\" : [2, ],\n",
    "    \"channels_to_include_moving\" : [1, ],\n",
    "    \n",
    "    # whether to fuse multiple moving images\n",
    "    # if False, will only transform the one with the highest overlap, ignoring other moving tiles at the border of target image\n",
    "    \"fuse_multiple_moving\" : True,\n",
    "    \n",
    "    # \"out_subdir\" : 'aligned_beads_correlation',\n",
    "    \"out_subdir\" : 'aligned_beads',\n",
    "    \n",
    "    # whether to save projections or not plus folder to save them to (will be subdir of out_subdir)\n",
    "    \"save_projections\": True,\n",
    "    \"projections_subdir\": 'vis'\n",
    "}\n",
    "    \n",
    "notebook_to_run = \"/home/stumberger/ep2024/subscripts/apply_alignment_to_images.ipynb\"\n",
    "\n",
    "run_notebook(parameters_list,notebook_to_run,parameters_common)"
   ]
  },
  {
   "cell_type": "markdown",
   "id": "7edfe0ee",
   "metadata": {},
   "source": [
    "# 4) Align FISH images"
   ]
  },
  {
   "cell_type": "code",
   "execution_count": null,
   "id": "021090d4",
   "metadata": {},
   "outputs": [],
   "source": [
    "parameters_list = [\n",
    "    {\n",
    "        \"base_path_target\": \"/home/stumberger/ep2024/RNA_DNA_FISH_spot_detection/example/DNAFISH/\",\n",
    "        \"base_path_moving\": \"/home/stumberger/ep2024/RNA_DNA_FISH_spot_detection/example/RNAFISH/\"\n",
    "    }\n",
    "]\n",
    "\n",
    "parameters_common = {\n",
    "    \"alignment_params_file\" : '/home/stumberger/ep2024/RNA_DNA_FISH_spot_detection/example/DNAFISH/transformations_local_1round.json',\n",
    "    \"exclude_pattern_target\" : \"sted\",\n",
    "    \"include_pattern_target\" : None,\n",
    "    \"exclude_pattern_moving\" : None,\n",
    "    \"include_pattern_moving\" : None,\n",
    "\n",
    "    \"channels_to_include_target\" : [0,1],\n",
    "    \"channels_to_include_moving\" : [0, ],\n",
    "    \n",
    "    # whether to fuse multiple moving images\n",
    "    # if False, will only transform the one with the highest overlap, ignoring other moving tiles at the border of target image\n",
    "    \"fuse_multiple_moving\" : True,\n",
    "    \n",
    "    # \"out_subdir\" : 'aligned_beads_correlation',\n",
    "    \"out_subdir\" : 'aligned_confocal',\n",
    "    \n",
    "    # whether to save projections or not plus folder to save them to (will be subdir of out_subdir)\n",
    "    \"save_projections\": True,\n",
    "    \"projections_subdir\": 'vis'\n",
    "}\n",
    "    \n",
    "notebook_to_run = \"/home/stumberger/ep2024/subscripts/apply_alignment_to_images.ipynb\"\n",
    "\n",
    "run_notebook(parameters_list,notebook_to_run,parameters_common)"
   ]
  }
 ],
 "metadata": {
  "kernelspec": {
   "display_name": "Python 3 (ipykernel)",
   "language": "python",
   "name": "python3"
  },
  "language_info": {
   "codemirror_mode": {
    "name": "ipython",
    "version": 3
   },
   "file_extension": ".py",
   "mimetype": "text/x-python",
   "name": "python",
   "nbconvert_exporter": "python",
   "pygments_lexer": "ipython3",
   "version": "3.9.19"
  }
 },
 "nbformat": 4,
 "nbformat_minor": 5
}
